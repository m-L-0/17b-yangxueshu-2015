{
 "cells": [
  {
   "cell_type": "code",
   "execution_count": 10,
   "metadata": {},
   "outputs": [],
   "source": [
    "import csv\n",
    "import tensorflow as tf\n",
    "from PIL import Image\n",
    "\n",
    "data = {1:0, 2:0, 3:0, 4:0}\n",
    "digit_1, digit_2, digit_3, digit_4 = [], [], [], []\n",
    "digit = [digit_1, digit_2, digit_3, digit_4]"
   ]
  },
  {
   "cell_type": "code",
   "execution_count": 11,
   "metadata": {},
   "outputs": [
    {
     "name": "stdout",
     "output_type": "stream",
     "text": [
      "writing...ok\n",
      "\n",
      "数据集总数为40000\n",
      "\n",
      "1位验证码数量为9844，比例占总数的0.2461\n",
      "\n",
      "2位验证码数量为5908，比例占总数的0.1477\n",
      "\n",
      "3位验证码数量为16183，比例占总数的0.4046\n",
      "\n",
      "4位验证码数量为8065，比例占总数的0.2016\n",
      "\n"
     ]
    }
   ],
   "source": [
    "def Data_Scale():\n",
    "    csv_reader = csv.reader(open('data/captcha/labels/labels.csv', encoding='utf-8'))\n",
    "    for row in csv_reader:\n",
    "        if int(row[1])//1000:\n",
    "            data[4] += 1\n",
    "            digit_4.append([row[0],row[1]])\n",
    "        elif int(row[1])//100:\n",
    "            data[3] += 1\n",
    "            digit_3.append([row[0],row[1]])\n",
    "        elif int(row[1])//10:\n",
    "            data[2] += 1\n",
    "            digit_2.append([row[0],row[1]])\n",
    "        elif int(row[1])//1:\n",
    "            data[1] += 1\n",
    "            digit_1.append([row[0],row[1]])\n",
    "    sumdata = data[1]+data[2]+data[3]+data[4]\n",
    "    # 生成txt文件\n",
    "    with open('Data_Scale.txt',  'w+') as f:\n",
    "        f.write(\"数据集总数为%d\" %sumdata+\"\\n\")\n",
    "        for i in range(4):\n",
    "            f.write(\"%d位验证码数量为%d，比例占总数的%.4f\" \n",
    "              %(i+1,data[i+1],data[i+1]/sumdata)+\"\\n\")\n",
    "    print('writing...ok\\n')\n",
    "    # 展示生成txt内容\n",
    "    file_object = open('Data_Scale.txt')\n",
    "    for line in file_object:\n",
    "        print(line)\n",
    "Data_Scale()"
   ]
  },
  {
   "cell_type": "code",
   "execution_count": 12,
   "metadata": {},
   "outputs": [
    {
     "name": "stdout",
     "output_type": "stream",
     "text": [
      "train1.tfrecords is producing...done\n",
      "train2.tfrecords is producing...done\n",
      "train3.tfrecords is producing...done\n",
      "train4.tfrecords is producing...done\n",
      "validation1.tfrecords is producing...done\n",
      "test1.tfrecords is producing...done\n"
     ]
    }
   ],
   "source": [
    "# 存储成tf.records,训练集每个文件有4720个,共四个文件,验证集和测试集每个各有2360个,各一个文件\n",
    "def pro_tfrecord(data_type='train'):\n",
    "    num = 5900\n",
    "    loopnum = 1\n",
    "    count = 0\n",
    "    if data_type == 'train':\n",
    "        num = num * 0.8\n",
    "        loopnum = 4\n",
    "    elif data_type == 'validation':\n",
    "        num = num * 0.1\n",
    "    elif data_type == 'test':\n",
    "        num = num * 0.1\n",
    "    for j in range(loopnum):\n",
    "        a = j+1\n",
    "        with tf.python_io.TFRecordWriter(\n",
    "            'data/' + data_type + str(a) + '.tfrecords') as writer:\n",
    "            for z in range(4):\n",
    "                if data_type == 'train' and count == int(num):\n",
    "                    continue\n",
    "                if a != 1:\n",
    "                    a -= 1\n",
    "                    continue\n",
    "                for i in range(int(num)):\n",
    "                    img = Image.open(digit[z][i][0])\n",
    "                    img1 = img.resize((56,40))\n",
    "                    # 转灰度图像\n",
    "                    image = img1.convert(\"L\")\n",
    "                    img_raw = image.tobytes()\n",
    "                    example = tf.train.Example(features=tf.train.Features(feature={\n",
    "                        \"label\": tf.train.Feature(\n",
    "                            int64_list=tf.train.Int64List(value=[int(digit[z][i][1])])),\n",
    "                        'img_raw': tf.train.Feature(\n",
    "                            bytes_list=tf.train.BytesList(value=[img_raw]))\n",
    "                    }))\n",
    "                    writer.write(example.SerializeToString())\n",
    "                    count += 1\n",
    "                del digit[z][0:int(num)]\n",
    "        count = 0\n",
    "        print(data_type+str(j+1)+'.tfrecords is producing...done')\n",
    "pro_tfrecord('train')\n",
    "pro_tfrecord('validation')\n",
    "pro_tfrecord('test')"
   ]
  }
 ],
 "metadata": {
  "kernelspec": {
   "display_name": "Python 3",
   "language": "python",
   "name": "python3"
  },
  "language_info": {
   "codemirror_mode": {
    "name": "ipython",
    "version": 3
   },
   "file_extension": ".py",
   "mimetype": "text/x-python",
   "name": "python",
   "nbconvert_exporter": "python",
   "pygments_lexer": "ipython3",
   "version": "3.6.3"
  }
 },
 "nbformat": 4,
 "nbformat_minor": 2
}
