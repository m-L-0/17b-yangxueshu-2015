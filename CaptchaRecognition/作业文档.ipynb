{
 "cells": [
  {
   "cell_type": "markdown",
   "metadata": {},
   "source": [
    "### 统计数据\n",
    "![Alt text](../images/3-统计结果.png)\n",
    "\n",
    "### 数据处理\n",
    "    - 将数据集按照8:1:1比例划分为训练集、验证集与测试集\n",
    "    - 每个TFRecord文件不超过5000个样本\n",
    "    - 训练集、验证集与测试集中不同类型的样本分布均匀\n",
    "### 模型设计 \n",
    "   - 隐藏层一共有10层卷积层、1层池化层，其中2、4、6层卷积层步长为2，其余卷积层步长为1 \n",
    "   - 为实现端到端模型，此模型设计了4个输出层，每个输出层对应四位数字的其中一位 \n",
    "   - 卷积核大小为2*2 \n",
    "   - 模型参数一共1568612个 \n",
    "   - 卷积层激活函数使用了relu激活函数 \n",
    "   - 为方便可视化，模型用Variable_scope包裹\n",
    "   - 优化条件有  \n",
    "         1. 使用Adam优化进行反向传播 \n",
    "         2. 通过参考每代验证集的损失，保存了损失最小的那代模型\n",
    "         \n",
    "### 验证模型\n",
    "    - 模型在训练集上的正确率的期望 0.743400\n",
    "    - 模型在验证集上的正确率的期望 0.605508\n",
    "    - 模型在测试集上的正确率的期望 0.590678\n",
    "    - 验证码整体正确率在此作为正确率的期望\n",
    "    - 在训练集上正确率最高，验证集次之，测试集最次。因为模型基于训练集训练，对训练集拟合最好;又因为保存的模型是在验证集代价最小的那代保存的，此代模型对验证集拟合也不错;此代模型对测试集不可能最拟合，但属于对非训练数据拟合比较好的一代模型\n",
    "    \n",
    "### 可视化\n",
    "1. 图结构\n",
    "![Alt text](../images/3-图结构.png)\n",
    "![Alt text](../images/3-模型.png)\n",
    "2. 训练集和验证集正确率及代价摘要截图:\n",
    "![Alt text](../images/3-accANDcross.png)\n",
    "\n",
    "### 模型性能评估\n",
    "    测试集验证码字符识别正确率 0.856674\n",
    "    测试集验证码识别正确率 0.590678\n",
    "    测试集平均正确率 0.723676\n",
    "\n",
    "### API规范\n",
    "    │ web\t\t\t\t# Web api\n",
    "    ├── templates\t\t# 网页模板\n",
    "    │\t├── 404.html\t# 自定义404页面，扩展base.html\n",
    "    │\t├── 500.html\t# 自定义500页面，扩展base.html\n",
    "    │\t├── base.html\t# 扩展bootstrap/base.html页面内容\n",
    "    │\t├── index.html\t# 经渲染的表单，扩展base.html，即实际web界面\n",
    "    ├── manage.py\t\t# 启动文件\n",
    "    ├── result.py\t\t# 识别验证码模型\n",
    "    \n",
    "用户上传图片后即可返回上传图片和识别验证码"
   ]
  }
 ],
 "metadata": {
  "kernelspec": {
   "display_name": "Python 3",
   "language": "python",
   "name": "python3"
  },
  "language_info": {
   "codemirror_mode": {
    "name": "ipython",
    "version": 3
   },
   "file_extension": ".py",
   "mimetype": "text/x-python",
   "name": "python",
   "nbconvert_exporter": "python",
   "pygments_lexer": "ipython3",
   "version": "3.6.3"
  }
 },
 "nbformat": 4,
 "nbformat_minor": 2
}
